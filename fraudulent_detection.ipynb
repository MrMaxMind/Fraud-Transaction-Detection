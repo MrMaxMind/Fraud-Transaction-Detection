{
 "cells": [
  {
   "cell_type": "markdown",
   "metadata": {},
   "source": [
    "Importing Libraries"
   ]
  },
  {
   "cell_type": "code",
   "execution_count": 1,
   "metadata": {},
   "outputs": [],
   "source": [
    "import pandas as pd\n",
    "import numpy as np\n",
    "from sklearn.model_selection import train_test_split, RandomizedSearchCV\n",
    "from sklearn.preprocessing import StandardScaler\n",
    "from sklearn.linear_model import LogisticRegression\n",
    "from sklearn.ensemble import RandomForestClassifier\n",
    "from xgboost import XGBClassifier\n",
    "from sklearn.metrics import accuracy_score, precision_score, recall_score, f1_score, confusion_matrix, classification_report\n",
    "from scipy.stats import randint"
   ]
  },
  {
   "cell_type": "markdown",
   "metadata": {},
   "source": [
    "Loading Dataset"
   ]
  },
  {
   "cell_type": "code",
   "execution_count": 2,
   "metadata": {},
   "outputs": [],
   "source": [
    "data = pd.read_csv(r'C:\\Users\\hp\\Downloads\\Fraud.csv')"
   ]
  },
  {
   "cell_type": "markdown",
   "metadata": {},
   "source": [
    "Convert necessary columns to appropriate data types"
   ]
  },
  {
   "cell_type": "code",
   "execution_count": 3,
   "metadata": {},
   "outputs": [],
   "source": [
    "data['type'] = data['type'].astype('category')\n",
    "data['nameOrig'] = data['nameOrig'].astype('category')\n",
    "data['nameDest'] = data['nameDest'].astype('category')\n",
    "data = pd.get_dummies(data, columns=['type'], drop_first=True)"
   ]
  },
  {
   "cell_type": "markdown",
   "metadata": {},
   "source": [
    "Feature Engineering for Creating new features"
   ]
  },
  {
   "cell_type": "code",
   "execution_count": 4,
   "metadata": {},
   "outputs": [],
   "source": [
    "data['errorOrig'] = data['oldbalanceOrg'] - data['newbalanceOrig'] - data['amount']\n",
    "data['errorDest'] = data['oldbalanceDest'] + data['amount'] - data['newbalanceDest']"
   ]
  },
  {
   "cell_type": "markdown",
   "metadata": {},
   "source": [
    "Removing outliers using IQR method"
   ]
  },
  {
   "cell_type": "code",
   "execution_count": 5,
   "metadata": {},
   "outputs": [],
   "source": [
    "def remove_outliers(df, column):\n",
    "    Q1 = df[column].quantile(0.25)\n",
    "    Q3 = df[column].quantile(0.75)\n",
    "    IQR = Q3 - Q1\n",
    "    lower_bound = Q1 - 1.5 * IQR\n",
    "    upper_bound = Q3 + 1.5 * IQR\n",
    "    return df[(df[column] >= lower_bound) & (df[column] <= upper_bound)]\n",
    "\n",
    "numerical_columns = ['amount', 'oldbalanceOrg', 'newbalanceOrig', 'oldbalanceDest', 'newbalanceDest']\n",
    "for col in numerical_columns:\n",
    "    data = remove_outliers(data, col)"
   ]
  },
  {
   "cell_type": "markdown",
   "metadata": {},
   "source": [
    "Splitting the data into features and target variable"
   ]
  },
  {
   "cell_type": "code",
   "execution_count": 6,
   "metadata": {},
   "outputs": [],
   "source": [
    "X = data.drop(['isFraud', 'isFlaggedFraud', 'nameOrig', 'nameDest'], axis=1)\n",
    "y = data['isFraud']"
   ]
  },
  {
   "cell_type": "markdown",
   "metadata": {},
   "source": [
    "Splitting the data into training and testing sets"
   ]
  },
  {
   "cell_type": "code",
   "execution_count": 7,
   "metadata": {},
   "outputs": [],
   "source": [
    "X_train, X_test, y_train, y_test = train_test_split(X, y, test_size=0.2, stratify=y, random_state=42)"
   ]
  },
  {
   "cell_type": "markdown",
   "metadata": {},
   "source": [
    "Feature Scaling for Normalize/Standardize features"
   ]
  },
  {
   "cell_type": "code",
   "execution_count": 8,
   "metadata": {},
   "outputs": [],
   "source": [
    "scaler = StandardScaler()\n",
    "X_train_scaled = scaler.fit_transform(X_train)\n",
    "X_test_scaled = scaler.transform(X_test)"
   ]
  },
  {
   "cell_type": "markdown",
   "metadata": {},
   "source": [
    "Defining and train models"
   ]
  },
  {
   "cell_type": "code",
   "execution_count": 10,
   "metadata": {},
   "outputs": [],
   "source": [
    "logreg = LogisticRegression(random_state=42)\n",
    "rf = RandomForestClassifier(random_state=42)\n",
    "xgb = XGBClassifier(random_state=42, use_label_encoder=False, eval_metric='logloss')\n",
    "\n",
    "logreg.fit(X_train_scaled, y_train)\n",
    "rf.fit(X_train_scaled, y_train)\n",
    "xgb.fit(X_train_scaled, y_train)\n",
    "\n",
    "y_pred_logreg = logreg.predict(X_test_scaled)\n",
    "y_pred_rf = rf.predict(X_test_scaled)\n",
    "y_pred_xgb = xgb.predict(X_test_scaled)"
   ]
  },
  {
   "cell_type": "markdown",
   "metadata": {},
   "source": [
    "Evaluating the model performance"
   ]
  },
  {
   "cell_type": "code",
   "execution_count": 12,
   "metadata": {},
   "outputs": [
    {
     "name": "stdout",
     "output_type": "stream",
     "text": [
      "Logistic Regression Performance:\n",
      "Accuracy: 0.999449469614721\n",
      "Precision: 0.9215017064846417\n",
      "Recall: 0.4462809917355372\n",
      "F1 Score: 0.601336302895323\n",
      "Confusion Matrix:\n",
      " [[649654     23]\n",
      " [   335    270]]\n",
      "Classification Report:\n",
      "               precision    recall  f1-score   support\n",
      "\n",
      "           0       1.00      1.00      1.00    649677\n",
      "           1       0.92      0.45      0.60       605\n",
      "\n",
      "    accuracy                           1.00    650282\n",
      "   macro avg       0.96      0.72      0.80    650282\n",
      "weighted avg       1.00      1.00      1.00    650282\n",
      "\n",
      "\n",
      "Random Forest Performance:\n",
      "Accuracy: 0.9999969244112554\n",
      "Precision: 1.0\n",
      "Recall: 0.996694214876033\n",
      "F1 Score: 0.9983443708609271\n",
      "Confusion Matrix:\n",
      " [[649677      0]\n",
      " [     2    603]]\n",
      "Classification Report:\n",
      "               precision    recall  f1-score   support\n",
      "\n",
      "           0       1.00      1.00      1.00    649677\n",
      "           1       1.00      1.00      1.00       605\n",
      "\n",
      "    accuracy                           1.00    650282\n",
      "   macro avg       1.00      1.00      1.00    650282\n",
      "weighted avg       1.00      1.00      1.00    650282\n",
      "\n",
      "\n",
      "XGBoost Performance:\n",
      "Accuracy: 0.9999000433658013\n",
      "Precision: 0.9411764705882353\n",
      "Recall: 0.9520661157024793\n",
      "F1 Score: 0.9465899753492195\n",
      "Confusion Matrix:\n",
      " [[649641     36]\n",
      " [    29    576]]\n",
      "Classification Report:\n",
      "               precision    recall  f1-score   support\n",
      "\n",
      "           0       1.00      1.00      1.00    649677\n",
      "           1       0.94      0.95      0.95       605\n",
      "\n",
      "    accuracy                           1.00    650282\n",
      "   macro avg       0.97      0.98      0.97    650282\n",
      "weighted avg       1.00      1.00      1.00    650282\n",
      "\n"
     ]
    }
   ],
   "source": [
    "def evaluate_model(y_true, y_pred, model_name):\n",
    "    print(f\"{model_name} Performance:\")\n",
    "    print(\"Accuracy:\", accuracy_score(y_true, y_pred))\n",
    "    print(\"Precision:\", precision_score(y_true, y_pred))\n",
    "    print(\"Recall:\", recall_score(y_true, y_pred))\n",
    "    print(\"F1 Score:\", f1_score(y_true, y_pred))\n",
    "    print(\"Confusion Matrix:\\n\", confusion_matrix(y_true, y_pred))\n",
    "    print(\"Classification Report:\\n\", classification_report(y_true, y_pred))\n",
    "\n",
    "evaluate_model(y_test, y_pred_logreg, \"Logistic Regression\")\n",
    "print()\n",
    "evaluate_model(y_test, y_pred_rf, \"Random Forest\")\n",
    "print()\n",
    "evaluate_model(y_test, y_pred_xgb, \"XGBoost\")"
   ]
  }
 ],
 "metadata": {
  "kernelspec": {
   "display_name": "Python 3",
   "language": "python",
   "name": "python3"
  },
  "language_info": {
   "codemirror_mode": {
    "name": "ipython",
    "version": 3
   },
   "file_extension": ".py",
   "mimetype": "text/x-python",
   "name": "python",
   "nbconvert_exporter": "python",
   "pygments_lexer": "ipython3",
   "version": "3.11.4"
  }
 },
 "nbformat": 4,
 "nbformat_minor": 2
}
